{
 "cells": [
  {
   "cell_type": "markdown",
   "metadata": {},
   "source": [
    "## Analisando Dados do Uber com Spark\n",
    "Dataset: https://github.com/fivethirtyeight/uber-tlc-foil-response\n",
    "\n",
    "O objetivo dessa atividade é testar os conhecimentos no objeto RDD do Spark. Todas as perguntas foram respondidas usando RDD's utilizando processos de MapReduce. \n",
    "\n",
    "O dataset contem informação de bases Uber.\n",
    "\n",
    "1- Quantos são e quais são as bases de carros do Uber (onde os carros ficam esperando passageiros)?\n",
    "\n",
    "2- Qual o total de veículos ativos que passaram pela base B02617?\n",
    "\n",
    "3- Qual o total de corridas por base? Apresente de forma decrescente.\n",
    "\n",
    "Leonardo Sampaio de Sousa.\n",
    "\n",
    "Curso Big data real time com Spark e Python.\n",
    "\n",
    "mais informações em https://www.datascienceacademy.com.br"
   ]
  },
  {
   "cell_type": "code",
   "execution_count": 12,
   "metadata": {},
   "outputs": [],
   "source": [
    "# Nota: Para rodar esse script, é necessário que voce tenha instalado o pyspark na sua máquina."
   ]
  },
  {
   "cell_type": "code",
   "execution_count": 2,
   "metadata": {},
   "outputs": [],
   "source": [
    "# Criando o RDD a partir do arquivo csv\n",
    "uberRDD = sc.textFile(\"data/uber.csv\")"
   ]
  },
  {
   "cell_type": "code",
   "execution_count": 3,
   "metadata": {},
   "outputs": [
    {
     "data": {
      "text/plain": [
       "['dispatching_base_number,date,active_vehicles,trips',\n",
       " 'B02512,1/1/2015,190,1132',\n",
       " 'B02765,1/1/2015,225,1765',\n",
       " 'B02764,1/1/2015,3427,29421',\n",
       " 'B02682,1/1/2015,945,7679']"
      ]
     },
     "execution_count": 3,
     "metadata": {},
     "output_type": "execute_result"
    }
   ],
   "source": [
    "# Visualizando os dados\n",
    "uberRDD.take(5)"
   ]
  },
  {
   "cell_type": "code",
   "execution_count": 5,
   "metadata": {},
   "outputs": [
    {
     "data": {
      "text/plain": [
       "6"
      ]
     },
     "execution_count": 5,
     "metadata": {},
     "output_type": "execute_result"
    }
   ],
   "source": [
    "# Quantos são e quais são as bases de carros do Uber (onde os carros ficam esperando passageiros)?\n",
    "# Separando por coluna e selecionando apenas a primeira coluna, removendo o cabeçalho e selecionando apenas elementos diferentes.\n",
    "uberEstation = uberRDD.map(lambda x : x.split(',')[0]).filter(lambda x : x != 'dispatching_base_number').distinct()\n",
    "# Quantos são\n",
    "uberEstation.count()"
   ]
  },
  {
   "cell_type": "code",
   "execution_count": 6,
   "metadata": {},
   "outputs": [
    {
     "data": {
      "text/plain": [
       "['B02765', 'B02682', 'B02598', 'B02512', 'B02764', 'B02617']"
      ]
     },
     "execution_count": 6,
     "metadata": {},
     "output_type": "execute_result"
    }
   ],
   "source": [
    "# Quais são\n",
    "uberEstation.take(6)"
   ]
  },
  {
   "cell_type": "code",
   "execution_count": 7,
   "metadata": {},
   "outputs": [
    {
     "data": {
      "text/plain": [
       "79758"
      ]
     },
     "execution_count": 7,
     "metadata": {},
     "output_type": "execute_result"
    }
   ],
   "source": [
    "# Qual o total de veículos ativos que passaram pela base B02617?\n",
    "\n",
    "# filtrando pela base escolhida, depois transformando a coluna que repressenta o numero de carros que passou naquela base no tipo inteiro.\n",
    "# depois somando todos os valores.\n",
    "dataRDD = uberRDD.map(lambda x: x.split(',')).filter(lambda x: x[0] == 'B02617').map(lambda x : int(x[2]))\n",
    "n_of_cars = dataRDD.reduce(lambda x, y: x + y)\n",
    "n_of_cars"
   ]
  },
  {
   "cell_type": "code",
   "execution_count": 14,
   "metadata": {},
   "outputs": [
    {
     "data": {
      "text/plain": [
       "[('B02764', 1914449),\n",
       " ('B02617', 725025),\n",
       " ('B02682', 662509),\n",
       " ('B02598', 540791),\n",
       " ('B02765', 193670),\n",
       " ('B02512', 93786)]"
      ]
     },
     "execution_count": 14,
     "metadata": {},
     "output_type": "execute_result"
    }
   ],
   "source": [
    "# Qual o total de corridas por base? Apresente de forma decrescente.\n",
    "\n",
    "# Total de corridas por base\n",
    "# Primeiramente agrupa-se o as bases ao número total de viagens e depois ordena-se inversamente.\n",
    "\n",
    "newRDD = sc.textFile(\"data/uber.csv\").filter(lambda line: \"base\" not in line).map(lambda line:line.split(\",\"))\n",
    "newRDD.map(lambda x: (x[0], int(x[3])) ).reduceByKey(lambda k,v: k + v).takeOrdered(6, key = lambda x: -x[1])"
   ]
  },
  {
   "cell_type": "code",
   "execution_count": null,
   "metadata": {},
   "outputs": [],
   "source": []
  }
 ],
 "metadata": {
  "kernelspec": {
   "display_name": "Python 3",
   "language": "python",
   "name": "python3"
  },
  "language_info": {
   "codemirror_mode": {
    "name": "ipython",
    "version": 3
   },
   "file_extension": ".py",
   "mimetype": "text/x-python",
   "name": "python",
   "nbconvert_exporter": "python",
   "pygments_lexer": "ipython3",
   "version": "3.7.3"
  }
 },
 "nbformat": 4,
 "nbformat_minor": 2
}
